{
 "cells": [
  {
   "cell_type": "code",
   "execution_count": 1,
   "id": "b64f271e",
   "metadata": {},
   "outputs": [
    {
     "ename": "SyntaxError",
     "evalue": "invalid syntax (668691230.py, line 1)",
     "output_type": "error",
     "traceback": [
      "\u001b[1;36m  Input \u001b[1;32mIn [1]\u001b[1;36m\u001b[0m\n\u001b[1;33m    s = 'My name is jatin deep's'\u001b[0m\n\u001b[1;37m                               ^\u001b[0m\n\u001b[1;31mSyntaxError\u001b[0m\u001b[1;31m:\u001b[0m invalid syntax\n"
     ]
    }
   ],
   "source": [
    "s = 'My name is jatin deep's'"
   ]
  },
  {
   "cell_type": "code",
   "execution_count": 2,
   "id": "06d3d75a",
   "metadata": {},
   "outputs": [],
   "source": [
    "s = \"My name is jatin deep's\""
   ]
  },
  {
   "cell_type": "code",
   "execution_count": 3,
   "id": "84d30127",
   "metadata": {},
   "outputs": [
    {
     "data": {
      "text/plain": [
       "\"My name is jatin deep's\""
      ]
     },
     "execution_count": 3,
     "metadata": {},
     "output_type": "execute_result"
    }
   ],
   "source": [
    "s"
   ]
  },
  {
   "cell_type": "code",
   "execution_count": 4,
   "id": "433321a9",
   "metadata": {},
   "outputs": [
    {
     "data": {
      "text/plain": [
       "\"ame is jatin deep's\""
      ]
     },
     "execution_count": 4,
     "metadata": {},
     "output_type": "execute_result"
    }
   ],
   "source": [
    "s[4:]"
   ]
  },
  {
   "cell_type": "code",
   "execution_count": 5,
   "id": "fd949bc5",
   "metadata": {},
   "outputs": [
    {
     "data": {
      "text/plain": [
       "'ame i'"
      ]
     },
     "execution_count": 5,
     "metadata": {},
     "output_type": "execute_result"
    }
   ],
   "source": [
    "s[4:9]"
   ]
  },
  {
   "cell_type": "code",
   "execution_count": 7,
   "id": "206c926e",
   "metadata": {},
   "outputs": [
    {
     "data": {
      "text/plain": [
       "\"My name is jatin deep's\""
      ]
     },
     "execution_count": 7,
     "metadata": {},
     "output_type": "execute_result"
    }
   ],
   "source": [
    "s = 'My name is jatin deep\\'s'\n",
    "s"
   ]
  },
  {
   "cell_type": "code",
   "execution_count": 8,
   "id": "1eb34651",
   "metadata": {},
   "outputs": [
    {
     "data": {
      "text/plain": [
       "' aei'"
      ]
     },
     "execution_count": 8,
     "metadata": {},
     "output_type": "execute_result"
    }
   ],
   "source": [
    "s[2:9:2]"
   ]
  },
  {
   "cell_type": "code",
   "execution_count": 9,
   "id": "e1fd64b6",
   "metadata": {},
   "outputs": [
    {
     "data": {
      "text/plain": [
       "' mij'"
      ]
     },
     "execution_count": 9,
     "metadata": {},
     "output_type": "execute_result"
    }
   ],
   "source": [
    "s[2:12:3]"
   ]
  },
  {
   "cell_type": "code",
   "execution_count": 10,
   "id": "832c0230",
   "metadata": {},
   "outputs": [
    {
     "data": {
      "text/plain": [
       "' mi'"
      ]
     },
     "execution_count": 10,
     "metadata": {},
     "output_type": "execute_result"
    }
   ],
   "source": [
    "s[2:11:3]"
   ]
  },
  {
   "cell_type": "code",
   "execution_count": 11,
   "id": "5a42781c",
   "metadata": {},
   "outputs": [
    {
     "data": {
      "text/plain": [
       "''"
      ]
     },
     "execution_count": 11,
     "metadata": {},
     "output_type": "execute_result"
    }
   ],
   "source": [
    "s[0:10:-1]"
   ]
  },
  {
   "cell_type": "code",
   "execution_count": 12,
   "id": "8afab3c4",
   "metadata": {},
   "outputs": [
    {
     "data": {
      "text/plain": [
       "23"
      ]
     },
     "execution_count": 12,
     "metadata": {},
     "output_type": "execute_result"
    }
   ],
   "source": [
    "len(s)"
   ]
  },
  {
   "cell_type": "code",
   "execution_count": 13,
   "id": "cc265400",
   "metadata": {},
   "outputs": [
    {
     "data": {
      "text/plain": [
       "'a'"
      ]
     },
     "execution_count": 13,
     "metadata": {},
     "output_type": "execute_result"
    }
   ],
   "source": [
    "s[12:13:5]"
   ]
  },
  {
   "cell_type": "code",
   "execution_count": 14,
   "id": "e653c49a",
   "metadata": {},
   "outputs": [
    {
     "data": {
      "text/plain": [
       "''"
      ]
     },
     "execution_count": 14,
     "metadata": {},
     "output_type": "execute_result"
    }
   ],
   "source": [
    "s[-1:0:5]"
   ]
  },
  {
   "cell_type": "code",
   "execution_count": 15,
   "id": "c29bc92f",
   "metadata": {},
   "outputs": [
    {
     "data": {
      "text/plain": [
       "''"
      ]
     },
     "execution_count": 15,
     "metadata": {},
     "output_type": "execute_result"
    }
   ],
   "source": [
    "s[-1:0]"
   ]
  },
  {
   "cell_type": "code",
   "execution_count": 16,
   "id": "ad6745c6",
   "metadata": {},
   "outputs": [
    {
     "data": {
      "text/plain": [
       "'My name is jatin dee'"
      ]
     },
     "execution_count": 16,
     "metadata": {},
     "output_type": "execute_result"
    }
   ],
   "source": [
    "s[:-3]"
   ]
  },
  {
   "cell_type": "code",
   "execution_count": 18,
   "id": "5fa5bedd",
   "metadata": {},
   "outputs": [
    {
     "data": {
      "text/plain": [
       "\"s'peed nitaj si eman yM\""
      ]
     },
     "execution_count": 18,
     "metadata": {},
     "output_type": "execute_result"
    }
   ],
   "source": [
    "s[::-1]  # Reverse the String"
   ]
  },
  {
   "cell_type": "code",
   "execution_count": 19,
   "id": "0c5ff848",
   "metadata": {},
   "outputs": [
    {
     "data": {
      "text/plain": [
       "''"
      ]
     },
     "execution_count": 19,
     "metadata": {},
     "output_type": "execute_result"
    }
   ],
   "source": [
    "s[-3:-12:1]  # Contradiction, moving in negative direction and jumping in positive direction."
   ]
  },
  {
   "cell_type": "code",
   "execution_count": 20,
   "id": "888691dd",
   "metadata": {},
   "outputs": [
    {
     "data": {
      "text/plain": [
       "'jatin dee'"
      ]
     },
     "execution_count": 20,
     "metadata": {},
     "output_type": "execute_result"
    }
   ],
   "source": [
    "s[-12:-3:1]"
   ]
  },
  {
   "cell_type": "code",
   "execution_count": 21,
   "id": "cd8abd1f",
   "metadata": {},
   "outputs": [
    {
     "data": {
      "text/plain": [
       "''"
      ]
     },
     "execution_count": 21,
     "metadata": {},
     "output_type": "execute_result"
    }
   ],
   "source": [
    "s[12:0] # By default +1 jump, hence contradiction so blank."
   ]
  },
  {
   "cell_type": "code",
   "execution_count": 22,
   "id": "b9cdd684",
   "metadata": {},
   "outputs": [
    {
     "data": {
      "text/plain": [
       "'JatinJatinJatinJatinJatinJatinJatinJatinJatinJatin'"
      ]
     },
     "execution_count": 22,
     "metadata": {},
     "output_type": "execute_result"
    }
   ],
   "source": [
    "x = \"Jatin\"\n",
    "x = x*10        # Repeat String 10 times\n",
    "x"
   ]
  },
  {
   "cell_type": "code",
   "execution_count": 23,
   "id": "8fc25cd9",
   "metadata": {},
   "outputs": [
    {
     "data": {
      "text/plain": [
       "<function str.capitalize()>"
      ]
     },
     "execution_count": 23,
     "metadata": {},
     "output_type": "execute_result"
    }
   ],
   "source": [
    "t = \"my name is jatin\"\n",
    "t.capitalize"
   ]
  },
  {
   "cell_type": "code",
   "execution_count": 24,
   "id": "342b03bb",
   "metadata": {},
   "outputs": [
    {
     "data": {
      "text/plain": [
       "'My name is jatin'"
      ]
     },
     "execution_count": 24,
     "metadata": {},
     "output_type": "execute_result"
    }
   ],
   "source": [
    "t.capitalize()"
   ]
  },
  {
   "cell_type": "code",
   "execution_count": 25,
   "id": "0ab6fcc5",
   "metadata": {},
   "outputs": [
    {
     "data": {
      "text/plain": [
       "'my name is jatin'"
      ]
     },
     "execution_count": 25,
     "metadata": {},
     "output_type": "execute_result"
    }
   ],
   "source": [
    "t.casefold()"
   ]
  },
  {
   "cell_type": "code",
   "execution_count": 33,
   "id": "307ebb4d",
   "metadata": {},
   "outputs": [
    {
     "data": {
      "text/plain": [
       "'my      name  is king'"
      ]
     },
     "execution_count": 33,
     "metadata": {},
     "output_type": "execute_result"
    }
   ],
   "source": [
    "t = \"My      name  is KiNg\"\n",
    "t.casefold()"
   ]
  },
  {
   "cell_type": "code",
   "execution_count": 38,
   "id": "05a09c29",
   "metadata": {},
   "outputs": [
    {
     "name": "stdout",
     "output_type": "stream",
     "text": [
      "21\n"
     ]
    },
    {
     "data": {
      "text/plain": [
       "'$$My      name  is KiNg$$'"
      ]
     },
     "execution_count": 38,
     "metadata": {},
     "output_type": "execute_result"
    }
   ],
   "source": [
    "print(len(t))\n",
    "t.center(25,\"$\")"
   ]
  },
  {
   "cell_type": "code",
   "execution_count": 40,
   "id": "843b079e",
   "metadata": {},
   "outputs": [
    {
     "data": {
      "text/plain": [
       "2"
      ]
     },
     "execution_count": 40,
     "metadata": {},
     "output_type": "execute_result"
    }
   ],
   "source": [
    "t.count('i')"
   ]
  },
  {
   "cell_type": "code",
   "execution_count": 41,
   "id": "8fff0b49",
   "metadata": {},
   "outputs": [
    {
     "data": {
      "text/plain": [
       "1"
      ]
     },
     "execution_count": 41,
     "metadata": {},
     "output_type": "execute_result"
    }
   ],
   "source": [
    "t.count('is')"
   ]
  },
  {
   "cell_type": "code",
   "execution_count": 42,
   "id": "c3a66aa0",
   "metadata": {},
   "outputs": [
    {
     "data": {
      "text/plain": [
       "3"
      ]
     },
     "execution_count": 42,
     "metadata": {},
     "output_type": "execute_result"
    }
   ],
   "source": [
    "t = \"My name is J and his home is in kld\"\n",
    "t.count('is')"
   ]
  },
  {
   "cell_type": "code",
   "execution_count": 43,
   "id": "d8db6327",
   "metadata": {},
   "outputs": [
    {
     "data": {
      "text/plain": [
       "['My name i', ' J and hi', ' home i', ' in kld']"
      ]
     },
     "execution_count": 43,
     "metadata": {},
     "output_type": "execute_result"
    }
   ],
   "source": [
    "t.split('s')"
   ]
  },
  {
   "cell_type": "code",
   "execution_count": 44,
   "id": "46b62218",
   "metadata": {},
   "outputs": [
    {
     "data": {
      "text/plain": [
       "['My name i', ' J and hi', ' home i', ' in kld']"
      ]
     },
     "execution_count": 44,
     "metadata": {},
     "output_type": "execute_result"
    }
   ],
   "source": [
    "t.split('s',12)"
   ]
  },
  {
   "cell_type": "code",
   "execution_count": 49,
   "id": "e5d89297",
   "metadata": {},
   "outputs": [
    {
     "data": {
      "text/plain": [
       "['My name i', ' J and his home is in kld']"
      ]
     },
     "execution_count": 49,
     "metadata": {},
     "output_type": "execute_result"
    }
   ],
   "source": [
    "t.split('s', 1)"
   ]
  },
  {
   "cell_type": "code",
   "execution_count": 50,
   "id": "148215d4",
   "metadata": {},
   "outputs": [
    {
     "data": {
      "text/plain": [
       "b'My name is J and his home is in kld'"
      ]
     },
     "execution_count": 50,
     "metadata": {},
     "output_type": "execute_result"
    }
   ],
   "source": [
    "t.encode()"
   ]
  },
  {
   "cell_type": "code",
   "execution_count": 52,
   "id": "5882600d",
   "metadata": {},
   "outputs": [
    {
     "data": {
      "text/plain": [
       "True"
      ]
     },
     "execution_count": 52,
     "metadata": {},
     "output_type": "execute_result"
    }
   ],
   "source": [
    "t.endswith('ld')"
   ]
  },
  {
   "cell_type": "code",
   "execution_count": 53,
   "id": "c7d9db2e",
   "metadata": {},
   "outputs": [
    {
     "data": {
      "text/plain": [
       "['Python',\n",
       " 'was',\n",
       " 'conceived',\n",
       " 'in',\n",
       " 'the',\n",
       " 'late',\n",
       " '1980s',\n",
       " 'by',\n",
       " 'Guido',\n",
       " 'van',\n",
       " 'Rossum',\n",
       " 'at',\n",
       " 'Centrum',\n",
       " 'Wiskunde',\n",
       " '&',\n",
       " 'Informatica',\n",
       " '(CWI)',\n",
       " 'in',\n",
       " 'the',\n",
       " 'Netherlands',\n",
       " 'as',\n",
       " 'a',\n",
       " 'successor',\n",
       " 'to',\n",
       " 'the',\n",
       " 'ABC',\n",
       " 'programming',\n",
       " 'language,',\n",
       " 'which',\n",
       " 'was',\n",
       " 'inspired',\n",
       " 'by',\n",
       " 'SETL,',\n",
       " 'capable',\n",
       " 'of',\n",
       " 'exception',\n",
       " 'handling',\n",
       " 'and',\n",
       " 'interfacing',\n",
       " 'with',\n",
       " 'the',\n",
       " 'Amoeba',\n",
       " 'operating',\n",
       " 'system.\\n',\n",
       " '',\n",
       " '',\n",
       " '',\n",
       " '',\n",
       " '',\n",
       " '',\n",
       " 'Its',\n",
       " 'implementation',\n",
       " 'began',\n",
       " 'in',\n",
       " 'December',\n",
       " '1989.']"
      ]
     },
     "execution_count": 53,
     "metadata": {},
     "output_type": "execute_result"
    }
   ],
   "source": [
    "txt = '''Python was conceived in the late 1980s by Guido van Rossum at Centrum Wiskunde & Informatica (CWI) in the Netherlands as a successor to the ABC programming language, which was inspired by SETL, capable of exception handling and interfacing with the Amoeba operating system.\n",
    "       Its implementation began in December 1989.'''\n",
    "txt.split(' ')"
   ]
  },
  {
   "cell_type": "code",
   "execution_count": 59,
   "id": "be2ceafc",
   "metadata": {},
   "outputs": [],
   "source": [
    "\"\"\"\n",
    "This is a comment\n",
    "written in\n",
    "more than just one line\n",
    "\"\"\"\n",
    "X = 43"
   ]
  },
  {
   "cell_type": "code",
   "execution_count": 60,
   "id": "b688ac8f",
   "metadata": {},
   "outputs": [
    {
     "data": {
      "text/plain": [
       "'PYTHON WAS CONCEIVED IN THE LATE 1980S BY GUIDO VAN ROSSUM AT CENTRUM WISKUNDE & INFORMATICA (CWI) IN THE NETHERLANDS AS A SUCCESSOR TO THE ABC PROGRAMMING LANGUAGE, WHICH WAS INSPIRED BY SETL, CAPABLE OF EXCEPTION HANDLING AND INTERFACING WITH THE AMOEBA OPERATING SYSTEM.\\n       ITS IMPLEMENTATION BEGAN IN DECEMBER 1989.'"
      ]
     },
     "execution_count": 60,
     "metadata": {},
     "output_type": "execute_result"
    }
   ],
   "source": [
    "txt.upper()"
   ]
  },
  {
   "cell_type": "code",
   "execution_count": 61,
   "id": "05e7ba85",
   "metadata": {},
   "outputs": [
    {
     "data": {
      "text/plain": [
       "'python was conceived in the late 1980s by guido van rossum at centrum wiskunde & informatica (cwi) in the netherlands as a successor to the abc programming language, which was inspired by setl, capable of exception handling and interfacing with the amoeba operating system.\\n       its implementation began in december 1989.'"
      ]
     },
     "execution_count": 61,
     "metadata": {},
     "output_type": "execute_result"
    }
   ],
   "source": [
    "txt.lower()"
   ]
  },
  {
   "cell_type": "code",
   "execution_count": 62,
   "id": "a4645937",
   "metadata": {},
   "outputs": [
    {
     "data": {
      "text/plain": [
       "'Python was conceived in the late 1980s by guido van rossum at centrum wiskunde & informatica (cwi) in the netherlands as a successor to the abc programming language, which was inspired by setl, capable of exception handling and interfacing with the amoeba operating system.\\n       its implementation began in december 1989.'"
      ]
     },
     "execution_count": 62,
     "metadata": {},
     "output_type": "execute_result"
    }
   ],
   "source": [
    "txt.capitalize()"
   ]
  },
  {
   "cell_type": "code",
   "execution_count": 63,
   "id": "1c374339",
   "metadata": {},
   "outputs": [
    {
     "data": {
      "text/plain": [
       "'Python Was Conceived In The Late 1980S By Guido Van Rossum At Centrum Wiskunde & Informatica (Cwi) In The Netherlands As A Successor To The Abc Programming Language, Which Was Inspired By Setl, Capable Of Exception Handling And Interfacing With The Amoeba Operating System.\\n       Its Implementation Began In December 1989.'"
      ]
     },
     "execution_count": 63,
     "metadata": {},
     "output_type": "execute_result"
    }
   ],
   "source": [
    "txt.title()"
   ]
  },
  {
   "cell_type": "code",
   "execution_count": 64,
   "id": "e549d55c",
   "metadata": {},
   "outputs": [
    {
     "data": {
      "text/plain": [
       "'pYTHON WAS CONCEIVED IN THE LATE 1980S BY gUIDO VAN rOSSUM AT cENTRUM wISKUNDE & iNFORMATICA (cwi) IN THE nETHERLANDS AS A SUCCESSOR TO THE abc PROGRAMMING LANGUAGE, WHICH WAS INSPIRED BY setl, CAPABLE OF EXCEPTION HANDLING AND INTERFACING WITH THE aMOEBA OPERATING SYSTEM.\\n       iTS IMPLEMENTATION BEGAN IN dECEMBER 1989.'"
      ]
     },
     "execution_count": 64,
     "metadata": {},
     "output_type": "execute_result"
    }
   ],
   "source": [
    "txt.swapcase()"
   ]
  },
  {
   "cell_type": "code",
   "execution_count": 66,
   "id": "84a0153f",
   "metadata": {},
   "outputs": [
    {
     "data": {
      "text/plain": [
       "<reversed at 0x2c5fa669580>"
      ]
     },
     "execution_count": 66,
     "metadata": {},
     "output_type": "execute_result"
    }
   ],
   "source": [
    "reversed(txt) # reverse the txt, will return object"
   ]
  },
  {
   "cell_type": "code",
   "execution_count": 67,
   "id": "0a16a7d1",
   "metadata": {},
   "outputs": [
    {
     "data": {
      "text/plain": [
       "'.9891 rebmeceD ni nageb noitatnemelpmi stI       \\n.metsys gnitarepo abeomA eht htiw gnicafretni dna gnildnah noitpecxe fo elbapac ,LTES yb deripsni saw hcihw ,egaugnal gnimmargorp CBA eht ot rosseccus a sa sdnalrehteN eht ni )IWC( acitamrofnI & ednuksiW murtneC ta mussoR nav odiuG yb s0891 etal eht ni deviecnoc saw nohtyP'"
      ]
     },
     "execution_count": 67,
     "metadata": {},
     "output_type": "execute_result"
    }
   ],
   "source": [
    "''.join(reversed(txt)) # reverse the txt"
   ]
  },
  {
   "cell_type": "code",
   "execution_count": 68,
   "id": "f3baccb2",
   "metadata": {},
   "outputs": [
    {
     "data": {
      "text/plain": [
       "'.'"
      ]
     },
     "execution_count": 68,
     "metadata": {},
     "output_type": "execute_result"
    }
   ],
   "source": [
    "txt[-1::]"
   ]
  },
  {
   "cell_type": "code",
   "execution_count": 69,
   "id": "9b087f12",
   "metadata": {},
   "outputs": [
    {
     "data": {
      "text/plain": [
       "'.9891 rebmeceD ni nageb noitatnemelpmi stI       \\n.metsys gnitarepo abeomA eht htiw gnicafretni dna gnildnah noitpecxe fo elbapac ,LTES yb deripsni saw hcihw ,egaugnal gnimmargorp CBA eht ot rosseccus a sa sdnalrehteN eht ni )IWC( acitamrofnI & ednuksiW murtneC ta mussoR nav odiuG yb s0891 etal eht ni deviecnoc saw nohtyP'"
      ]
     },
     "execution_count": 69,
     "metadata": {},
     "output_type": "execute_result"
    }
   ],
   "source": [
    "txt[::-1]     # reverse the txt"
   ]
  },
  {
   "cell_type": "code",
   "execution_count": 70,
   "id": "4a77b6b7",
   "metadata": {},
   "outputs": [],
   "source": [
    "r = \"   Jatin   Deep  Singh    \""
   ]
  },
  {
   "cell_type": "code",
   "execution_count": 71,
   "id": "aaada34a",
   "metadata": {},
   "outputs": [
    {
     "data": {
      "text/plain": [
       "'Jatin   Deep  Singh'"
      ]
     },
     "execution_count": 71,
     "metadata": {},
     "output_type": "execute_result"
    }
   ],
   "source": [
    "r.strip()"
   ]
  },
  {
   "cell_type": "code",
   "execution_count": 72,
   "id": "1bd10be8",
   "metadata": {},
   "outputs": [
    {
     "data": {
      "text/plain": [
       "'Jatin   Deep  Singh    '"
      ]
     },
     "execution_count": 72,
     "metadata": {},
     "output_type": "execute_result"
    }
   ],
   "source": [
    "r.lstrip()"
   ]
  },
  {
   "cell_type": "code",
   "execution_count": 73,
   "id": "5f89f9e9",
   "metadata": {},
   "outputs": [
    {
     "data": {
      "text/plain": [
       "'   Jatin   Deep  Singh'"
      ]
     },
     "execution_count": 73,
     "metadata": {},
     "output_type": "execute_result"
    }
   ],
   "source": [
    "r.rstrip()"
   ]
  },
  {
   "cell_type": "code",
   "execution_count": 74,
   "id": "ae9889c8",
   "metadata": {},
   "outputs": [
    {
     "data": {
      "text/plain": [
       "'j a t i n d e e p'"
      ]
     },
     "execution_count": 74,
     "metadata": {},
     "output_type": "execute_result"
    }
   ],
   "source": [
    "' '.join(\"jatindeep\")"
   ]
  },
  {
   "cell_type": "code",
   "execution_count": 75,
   "id": "35a080cc",
   "metadata": {},
   "outputs": [
    {
     "data": {
      "text/plain": [
       "'j#a#t#i#n'"
      ]
     },
     "execution_count": 75,
     "metadata": {},
     "output_type": "execute_result"
    }
   ],
   "source": [
    "'#'.join('jatin')"
   ]
  },
  {
   "cell_type": "code",
   "execution_count": 76,
   "id": "f869ec71",
   "metadata": {},
   "outputs": [
    {
     "data": {
      "text/plain": [
       "'t4h4r4e4e'"
      ]
     },
     "execution_count": 76,
     "metadata": {},
     "output_type": "execute_result"
    }
   ],
   "source": [
    "'4'.join('three')         "
   ]
  },
  {
   "cell_type": "code",
   "execution_count": 78,
   "id": "7828b21d",
   "metadata": {},
   "outputs": [
    {
     "data": {
      "text/plain": [
       "False"
      ]
     },
     "execution_count": 78,
     "metadata": {},
     "output_type": "execute_result"
    }
   ],
   "source": [
    "r.isalpha() # r contain space also along with alphabets"
   ]
  },
  {
   "cell_type": "code",
   "execution_count": 79,
   "id": "457f5299",
   "metadata": {},
   "outputs": [
    {
     "data": {
      "text/plain": [
       "True"
      ]
     },
     "execution_count": 79,
     "metadata": {},
     "output_type": "execute_result"
    }
   ],
   "source": [
    "m = \"RaviTaj\"\n",
    "m.isalpha()"
   ]
  },
  {
   "cell_type": "code",
   "execution_count": 83,
   "id": "8a736bc6",
   "metadata": {},
   "outputs": [
    {
     "data": {
      "text/plain": [
       "False"
      ]
     },
     "execution_count": 83,
     "metadata": {},
     "output_type": "execute_result"
    }
   ],
   "source": [
    "m = \"RabiT$eja4\"\n",
    "m.isalnum()"
   ]
  },
  {
   "cell_type": "code",
   "execution_count": 85,
   "id": "25fca8e1",
   "metadata": {},
   "outputs": [
    {
     "data": {
      "text/plain": [
       "True"
      ]
     },
     "execution_count": 85,
     "metadata": {},
     "output_type": "execute_result"
    }
   ],
   "source": [
    "m = \"Dev12\"\n",
    "m.isalnum()"
   ]
  },
  {
   "cell_type": "code",
   "execution_count": 86,
   "id": "f1fa213d",
   "metadata": {},
   "outputs": [
    {
     "data": {
      "text/plain": [
       "True"
      ]
     },
     "execution_count": 86,
     "metadata": {},
     "output_type": "execute_result"
    }
   ],
   "source": [
    "m = \"1234\"\n",
    "m.isdigit()"
   ]
  },
  {
   "cell_type": "code",
   "execution_count": 87,
   "id": "aef6ef52",
   "metadata": {},
   "outputs": [
    {
     "data": {
      "text/plain": [
       "True"
      ]
     },
     "execution_count": 87,
     "metadata": {},
     "output_type": "execute_result"
    }
   ],
   "source": [
    "m.isascii()"
   ]
  },
  {
   "cell_type": "code",
   "execution_count": 88,
   "id": "a8a449a9",
   "metadata": {},
   "outputs": [
    {
     "data": {
      "text/plain": [
       "False"
      ]
     },
     "execution_count": 88,
     "metadata": {},
     "output_type": "execute_result"
    }
   ],
   "source": [
    "m = \"12 3345\"\n",
    "m.isnumeric()"
   ]
  },
  {
   "cell_type": "code",
   "execution_count": 89,
   "id": "3e49c81a",
   "metadata": {},
   "outputs": [],
   "source": [
    "m = \"1\\t234\\t\\t345678\""
   ]
  },
  {
   "cell_type": "code",
   "execution_count": 90,
   "id": "b53e59ad",
   "metadata": {},
   "outputs": [
    {
     "data": {
      "text/plain": [
       "'1       234             345678'"
      ]
     },
     "execution_count": 90,
     "metadata": {},
     "output_type": "execute_result"
    }
   ],
   "source": [
    "m.expandtabs()"
   ]
  },
  {
   "cell_type": "code",
   "execution_count": 91,
   "id": "d3394054",
   "metadata": {},
   "outputs": [
    {
     "data": {
      "text/plain": [
       "''"
      ]
     },
     "execution_count": 91,
     "metadata": {},
     "output_type": "execute_result"
    }
   ],
   "source": [
    "m[-1:-9:1]"
   ]
  },
  {
   "cell_type": "code",
   "execution_count": 92,
   "id": "5da2ea43",
   "metadata": {},
   "outputs": [
    {
     "data": {
      "text/plain": [
       "''"
      ]
     },
     "execution_count": 92,
     "metadata": {},
     "output_type": "execute_result"
    }
   ],
   "source": [
    "m[-1:-6:2]"
   ]
  },
  {
   "cell_type": "code",
   "execution_count": 93,
   "id": "062b8314",
   "metadata": {},
   "outputs": [
    {
     "data": {
      "text/plain": [
       "b'\\x069'"
      ]
     },
     "execution_count": 93,
     "metadata": {},
     "output_type": "execute_result"
    }
   ],
   "source": [
    "'\\69'.encode('ascii')"
   ]
  },
  {
   "cell_type": "code",
   "execution_count": 94,
   "id": "3654e295",
   "metadata": {},
   "outputs": [
    {
     "data": {
      "text/plain": [
       "b'\\r'"
      ]
     },
     "execution_count": 94,
     "metadata": {},
     "output_type": "execute_result"
    }
   ],
   "source": [
    "'\\15'.encode('ascii')"
   ]
  },
  {
   "cell_type": "code",
   "execution_count": 95,
   "id": "7ab53830",
   "metadata": {},
   "outputs": [
    {
     "data": {
      "text/plain": [
       "b'\\x008'"
      ]
     },
     "execution_count": 95,
     "metadata": {},
     "output_type": "execute_result"
    }
   ],
   "source": [
    "'\\08'.encode('ascii')"
   ]
  },
  {
   "cell_type": "code",
   "execution_count": 96,
   "id": "051a4c3d",
   "metadata": {},
   "outputs": [
    {
     "data": {
      "text/plain": [
       "b'\\x06'"
      ]
     },
     "execution_count": 96,
     "metadata": {},
     "output_type": "execute_result"
    }
   ],
   "source": [
    "'\\6'.encode('ascii')"
   ]
  },
  {
   "cell_type": "code",
   "execution_count": 101,
   "id": "be1d86c4",
   "metadata": {},
   "outputs": [
    {
     "data": {
      "text/plain": [
       "'0b1001'"
      ]
     },
     "execution_count": 101,
     "metadata": {},
     "output_type": "execute_result"
    }
   ],
   "source": [
    "bin(9)"
   ]
  },
  {
   "cell_type": "code",
   "execution_count": 102,
   "id": "dc22716d",
   "metadata": {},
   "outputs": [
    {
     "data": {
      "text/plain": [
       "'0x7b'"
      ]
     },
     "execution_count": 102,
     "metadata": {},
     "output_type": "execute_result"
    }
   ],
   "source": [
    "hex(123)"
   ]
  },
  {
   "cell_type": "code",
   "execution_count": 103,
   "id": "3f755fe9",
   "metadata": {},
   "outputs": [
    {
     "data": {
      "text/plain": [
       "'0o11'"
      ]
     },
     "execution_count": 103,
     "metadata": {},
     "output_type": "execute_result"
    }
   ],
   "source": [
    "oct(9)"
   ]
  },
  {
   "cell_type": "code",
   "execution_count": 104,
   "id": "4a187839",
   "metadata": {},
   "outputs": [
    {
     "data": {
      "text/plain": [
       "True"
      ]
     },
     "execution_count": 104,
     "metadata": {},
     "output_type": "execute_result"
    }
   ],
   "source": [
    "'if'.isidentifier()"
   ]
  },
  {
   "cell_type": "code",
   "execution_count": 107,
   "id": "b739bb0e",
   "metadata": {},
   "outputs": [
    {
     "data": {
      "text/plain": [
       "True"
      ]
     },
     "execution_count": 107,
     "metadata": {},
     "output_type": "execute_result"
    }
   ],
   "source": [
    "'elSe'.isidentifier()"
   ]
  },
  {
   "cell_type": "code",
   "execution_count": 108,
   "id": "72eb38b3",
   "metadata": {},
   "outputs": [
    {
     "data": {
      "text/plain": [
       "True"
      ]
     },
     "execution_count": 108,
     "metadata": {},
     "output_type": "execute_result"
    }
   ],
   "source": [
    "'rap'.isidentifier()"
   ]
  },
  {
   "cell_type": "code",
   "execution_count": null,
   "id": "172eff6c",
   "metadata": {},
   "outputs": [],
   "source": []
  }
 ],
 "metadata": {
  "kernelspec": {
   "display_name": "Python 3 (ipykernel)",
   "language": "python",
   "name": "python3"
  },
  "language_info": {
   "codemirror_mode": {
    "name": "ipython",
    "version": 3
   },
   "file_extension": ".py",
   "mimetype": "text/x-python",
   "name": "python",
   "nbconvert_exporter": "python",
   "pygments_lexer": "ipython3",
   "version": "3.9.12"
  }
 },
 "nbformat": 4,
 "nbformat_minor": 5
}
